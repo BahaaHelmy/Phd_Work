{
  "cells": [
    {
      "cell_type": "code",
      "execution_count": null,
      "metadata": {
        "id": "tvH2Rbe5qMuh"
      },
      "outputs": [],
      "source": [
        "#The Name Of The EXPERMENT // skip it if you just test the model\n",
        "EXPERMENT_NAME = 'HeartClassificationTemplateFreeStyle2_GELU'"
      ]
    },
    {
      "cell_type": "markdown",
      "source": [
        "## Load Dataset"
      ],
      "metadata": {
        "id": "b0OJ_Z0t853k"
      }
    },
    {
      "cell_type": "code",
      "source": [
        "# connect to google Drive\n",
        "from google.colab import drive\n",
        "drive.mount('/content/drive')"
      ],
      "metadata": {
        "colab": {
          "base_uri": "https://localhost:8080/"
        },
        "id": "J68AlFEOdCyn",
        "outputId": "f396ca15-6b16-4fba-a6f7-2785cfbae345"
      },
      "execution_count": null,
      "outputs": [
        {
          "output_type": "stream",
          "name": "stdout",
          "text": [
            "Mounted at /content/drive\n"
          ]
        }
      ]
    },
    {
      "cell_type": "code",
      "execution_count": null,
      "metadata": {
        "id": "8HPHtdMYEIV7"
      },
      "outputs": [],
      "source": [
        "# copy data mitbih dataset from google drive to colab\n",
        "!cp /content/drive/MyDrive/FcaiBsuTeam/Software/Training/DataSet/mitbih.csv.zip /content/"
      ]
    },
    {
      "cell_type": "code",
      "source": [
        "!cp /content/drive/MyDrive/FcaiBsuTeam/Software/Training/DataSet/mitbih_test.csv /content/"
      ],
      "metadata": {
        "id": "0tcf0c-om1yA"
      },
      "execution_count": null,
      "outputs": []
    },
    {
      "cell_type": "code",
      "source": [
        "# if you faced any problem in copy this data to your work enviroment here just uncomment these 2 line and run this cell\n",
        "#!gdown 1HpF9h3ZQ7z9S7WK0APvZr9jf-J5ZfZD8\n",
        "#!gdwon 1HbHfJYJq7YGXJdm-PeXRfcM830aY7Ass"
      ],
      "metadata": {
        "id": "w70X_CCc_Kag"
      },
      "execution_count": null,
      "outputs": []
    },
    {
      "cell_type": "markdown",
      "metadata": {
        "id": "l3oHMct5g2Hx"
      },
      "source": [
        "### install dependencies"
      ]
    },
    {
      "cell_type": "code",
      "execution_count": null,
      "metadata": {
        "id": "w5LZC44xZey9"
      },
      "outputs": [],
      "source": [
        "%%bash\n",
        "pip install pytorch-lightning\n",
        "pip install wandb\n",
        "pip install optuna"
      ]
    },
    {
      "cell_type": "markdown",
      "metadata": {
        "id": "B4UYWWRUhGQ7"
      },
      "source": [
        "### Import Libs"
      ]
    },
    {
      "cell_type": "code",
      "execution_count": null,
      "metadata": {
        "id": "3KKq6BzzYvif"
      },
      "outputs": [],
      "source": [
        "import wandb\n",
        "import pandas as pd\n",
        "from pytorch_lightning.loggers import WandbLogger\n",
        "import optuna\n",
        "from optuna.integration import PyTorchLightningPruningCallback\n",
        "from sklearn.model_selection import train_test_split"
      ]
    },
    {
      "cell_type": "code",
      "execution_count": null,
      "metadata": {
        "id": "ku2-rcvHhW47"
      },
      "outputs": [],
      "source": [
        "import pytorch_lightning as pl\n",
        "import torch\n",
        "import pandas as pd\n",
        "import numpy as np\n",
        "import torch.nn as nn\n",
        "import torch.optim as optim\n",
        "import torch.nn.functional as F"
      ]
    },
    {
      "cell_type": "code",
      "execution_count": null,
      "metadata": {
        "id": "f2V_fL1zh7i0"
      },
      "outputs": [],
      "source": [
        "from torch.utils.data import Dataset , DataLoader\n",
        "from sklearn.utils import shuffle"
      ]
    },
    {
      "cell_type": "code",
      "execution_count": null,
      "metadata": {
        "id": "LvByBPsSjHse"
      },
      "outputs": [],
      "source": [
        "from pytorch_lightning.callbacks import ModelCheckpoint\n",
        "from pytorch_lightning.callbacks.early_stopping import EarlyStopping"
      ]
    },
    {
      "cell_type": "markdown",
      "metadata": {
        "id": "O-5Cc4lYhpil"
      },
      "source": [
        "### wandb settings"
      ]
    },
    {
      "cell_type": "code",
      "source": [
        "# you need to use this accsess key below : 31880a10cc6e931ba2603689e6afb0ae48f3d0c1"
      ],
      "metadata": {
        "id": "IJ8zepl-d5sr"
      },
      "execution_count": null,
      "outputs": []
    },
    {
      "cell_type": "code",
      "execution_count": null,
      "metadata": {
        "colab": {
          "base_uri": "https://localhost:8080/"
        },
        "id": "sEckr929X3DL",
        "outputId": "f1c18065-10e1-4313-8902-7023e73a07ac"
      },
      "outputs": [
        {
          "output_type": "stream",
          "name": "stdout",
          "text": [
            "\u001b[34m\u001b[1mwandb\u001b[0m: Logging into wandb.ai. (Learn how to deploy a W&B server locally: https://wandb.me/wandb-server)\n",
            "\u001b[34m\u001b[1mwandb\u001b[0m: You can find your API key in your browser here: https://wandb.ai/authorize\n",
            "\u001b[34m\u001b[1mwandb\u001b[0m: Paste an API key from your profile and hit enter, or press ctrl+c to quit: \n",
            "\u001b[34m\u001b[1mwandb\u001b[0m: Appending key for api.wandb.ai to your netrc file: /root/.netrc\n"
          ]
        }
      ],
      "source": [
        "!wandb login --relogin"
      ]
    },
    {
      "cell_type": "code",
      "execution_count": null,
      "metadata": {
        "colab": {
          "base_uri": "https://localhost:8080/",
          "height": 86
        },
        "id": "RUzk_-jUOskm",
        "outputId": "642aa58f-dbc7-4abb-b975-6f3e2a337311"
      },
      "outputs": [
        {
          "output_type": "stream",
          "name": "stderr",
          "text": [
            "\u001b[34m\u001b[1mwandb\u001b[0m: Currently logged in as: \u001b[33mmuhammed266\u001b[0m. Use \u001b[1m`wandb login --relogin`\u001b[0m to force relogin\n"
          ]
        },
        {
          "output_type": "display_data",
          "data": {
            "text/plain": [
              "<IPython.core.display.HTML object>"
            ],
            "text/html": [
              "Tracking run with wandb version 0.12.21"
            ]
          },
          "metadata": {}
        },
        {
          "output_type": "display_data",
          "data": {
            "text/plain": [
              "<IPython.core.display.HTML object>"
            ],
            "text/html": [
              "Run data is saved locally in <code>/content/wandb/run-20220707_185008-340behwb</code>"
            ]
          },
          "metadata": {}
        },
        {
          "output_type": "display_data",
          "data": {
            "text/plain": [
              "<IPython.core.display.HTML object>"
            ],
            "text/html": [
              "Syncing run <strong><a href=\"https://wandb.ai/muhammed266/HeartClassification/runs/340behwb\" target=\"_blank\">fearless-night-54</a></strong> to <a href=\"https://wandb.ai/muhammed266/HeartClassification\" target=\"_blank\">Weights & Biases</a> (<a href=\"https://wandb.me/run\" target=\"_blank\">docs</a>)<br/>"
            ]
          },
          "metadata": {}
        }
      ],
      "source": [
        "wandb_logger = WandbLogger(project = \"HeartClassification\" , entity = \"muhammed266\")"
      ]
    },
    {
      "cell_type": "markdown",
      "metadata": {
        "id": "Le3VwPS1iHxt"
      },
      "source": [
        "### Define DataLoader"
      ]
    },
    {
      "cell_type": "code",
      "execution_count": null,
      "metadata": {
        "id": "g3fynAWXGefl"
      },
      "outputs": [],
      "source": [
        "# here we define ECGDATASET DataSet Sampler\n",
        "# that take csv file and return when calling __getitem__ datapoint ready to use in our model\n",
        "class ECGDataset(Dataset):\n",
        "\n",
        "    def __init__(self, df):\n",
        "        self.df = df\n",
        "        self.data_columns = self.df.columns[:-2].tolist()\n",
        "\n",
        "    def __getitem__(self, idx):\n",
        "        # we need to convert dtype of the data to float and the target to long\n",
        "        # and all od them to torch Tensors\n",
        "        signal = self.df.loc[idx, self.data_columns].astype('float32')\n",
        "        signal = torch.FloatTensor([signal.values])\n",
        "        target = torch.LongTensor(np.array(self.df.loc[idx, 'class']))\n",
        "        return signal, target\n",
        "\n",
        "    def __len__(self):\n",
        "      return len(self.df)"
      ]
    },
    {
      "cell_type": "code",
      "execution_count": null,
      "metadata": {
        "id": "TCcD7TJnHQd_"
      },
      "outputs": [],
      "source": [
        "# Here we\n",
        "\n",
        "# 2 We also add some settings and values ​​such as batch size , test size\n",
        "\n",
        "class dataloader(pl.LightningDataModule):\n",
        "    def __init__(self , train_path , batch_size ):\n",
        "        super().__init__()\n",
        "\n",
        "        self.batch_size = batch_size\n",
        "        self.train_path = train_path\n",
        "\n",
        "    def prepare(self):\n",
        "      # Devide ourdataset to train / validation\n",
        "      # define (train data sampler , validation data) sampler\n",
        "      df = pd.read_csv(self.train_path)\n",
        "      train_df, val_df = train_test_split(df, test_size=0.15 , random_state=2021 ,  stratify=df['label'])\n",
        "\n",
        "      self.train_df, self.val_df = train_df.reset_index(drop=True), val_df.reset_index(drop=True)\n",
        "\n",
        "      self.train_dataset = ECGDataset(self.train_df)\n",
        "      self.valid_dataset = ECGDataset(self.val_df)\n",
        "\n",
        "    def train_dataloader(self):\n",
        "        return DataLoader(self.train_dataset, batch_size = self.batch_size, shuffle=True)\n",
        "\n",
        "    def val_dataloader(self):\n",
        "        return DataLoader(self.valid_dataset , batch_size = self.batch_size )"
      ]
    },
    {
      "cell_type": "code",
      "execution_count": null,
      "metadata": {
        "id": "Cn-_dmkgIODI"
      },
      "outputs": [],
      "source": [
        "data = dataloader(\"/content/mitbih.csv.zip\" , 200)\n",
        "data.prepare()"
      ]
    },
    {
      "cell_type": "markdown",
      "metadata": {
        "id": "nWTIk0BVirED"
      },
      "source": [
        "## Define The Model And Metaheuristic Optimization"
      ]
    },
    {
      "cell_type": "markdown",
      "source": [
        "![photo1657160423.jpeg](data:image/jpeg;base64,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)"
      ],
      "metadata": {
        "id": "E25zfYt0gVOv"
      }
    },
    {
      "cell_type": "code",
      "source": [
        "!pip install pyMetaheuristic"
      ],
      "metadata": {
        "colab": {
          "base_uri": "https://localhost:8080/"
        },
        "id": "94TnEJ3G0GYF",
        "outputId": "93e138a7-d6a1-4e16-c866-eef6a1489da6"
      },
      "execution_count": null,
      "outputs": [
        {
          "output_type": "stream",
          "name": "stdout",
          "text": [
            "Looking in indexes: https://pypi.org/simple, https://us-python.pkg.dev/colab-wheels/public/simple/\n",
            "Collecting pyMetaheuristic\n",
            "  Downloading pyMetaheuristic-1.2.7-py3-none-any.whl (64 kB)\n",
            "\u001b[K     |████████████████████████████████| 64 kB 3.5 MB/s \n",
            "\u001b[?25hRequirement already satisfied: scipy in /usr/local/lib/python3.7/dist-packages (from pyMetaheuristic) (1.4.1)\n",
            "Requirement already satisfied: plotly in /usr/local/lib/python3.7/dist-packages (from pyMetaheuristic) (5.5.0)\n",
            "Requirement already satisfied: numpy in /usr/local/lib/python3.7/dist-packages (from pyMetaheuristic) (1.21.6)\n",
            "Requirement already satisfied: tenacity>=6.2.0 in /usr/local/lib/python3.7/dist-packages (from plotly->pyMetaheuristic) (8.0.1)\n",
            "Requirement already satisfied: six in /usr/local/lib/python3.7/dist-packages (from plotly->pyMetaheuristic) (1.15.0)\n",
            "Installing collected packages: pyMetaheuristic\n",
            "Successfully installed pyMetaheuristic-1.2.7\n"
          ]
        }
      ]
    },
    {
      "cell_type": "code",
      "source": [
        "from pyMetaheuristic.algorithm  import arithmetic_optimization_algorithm\n",
        "from pyMetaheuristic.utils import graphs"
      ],
      "metadata": {
        "id": "iKTkAzxGnp3F"
      },
      "execution_count": null,
      "outputs": []
    },
    {
      "cell_type": "code",
      "source": [
        "# define model with variable parameters\n",
        "\n",
        "class  Model(pl.LightningModule):\n",
        "\n",
        "    def __init__(self, num_of_class, lr, num_layer, dropout):\n",
        "        super(Model, self).__init__()\n",
        "        self.lr = lr\n",
        "        self.model = nn.Sequential(\n",
        "            nn.Conv1d(1, 32, kernel_size=3, stride=1 , padding = 1),\n",
        "            nn.BatchNorm1d(32) ,\n",
        "            nn.ReLU() ,\n",
        "\n",
        "            nn.Conv1d(32 , 64 , kernel_size = 3 , stride = 1 , padding = 1) ,\n",
        "            nn.BatchNorm1d(64) ,\n",
        "            nn.ReLU() ,\n",
        "            nn.MaxPool1d(3),\n",
        "\n",
        "            nn.Conv1d(64 , 128 , kernel_size = 3 , stride = 1 , padding = 1) ,\n",
        "            nn.BatchNorm1d(128) ,\n",
        "            nn.ReLU() ,\n",
        "            nn.MaxPool1d(3) ,\n",
        "\n",
        "            nn.Conv1d(128 , 256 , kernel_size = 3 , stride = 1 , padding = 1) ,\n",
        "            nn.BatchNorm1d(256) ,\n",
        "            nn.ReLU() ,\n",
        "            nn.Dropout(dropout))\n",
        "\n",
        "        self.linear = nn.Sequential(\n",
        "            nn.Linear(5120,int(num_layer)) ,\n",
        "            nn.Dropout(dropout) ,\n",
        "            nn.LeakyReLU(inplace = True) ,\n",
        "            nn.Linear(int(num_layer) , num_of_class)\n",
        "        )\n",
        "\n",
        "    def forward(self,x):\n",
        "        # x = x.unsqueeze(1)\n",
        "        x = self.model(x)\n",
        "        x = x.view(x.size(0), -1)\n",
        "        x = self.linear(x)\n",
        "\n",
        "        return x\n",
        "\n",
        "    def configure_optimizers(self):\n",
        "        return optim.AdamW(self.parameters(), lr = self.lr)\n",
        "\n",
        "    def training_step(self , batch , batch_idx):\n",
        "        src , trg = batch\n",
        "        preds = self(src)\n",
        "        loss  = F.cross_entropy(preds , trg)\n",
        "        acc   = (preds.argmax(dim = -1) == trg).float().mean()\n",
        "\n",
        "        self.log(\"train_acc\" , acc , on_step = True , on_epoch = True , prog_bar = True , )\n",
        "        self.log(\"train_loss\" , loss , on_step = True , on_epoch = True , prog_bar = True)\n",
        "\n",
        "        return loss\n",
        "\n",
        "    def validation_step(self , batch , batch_idx):\n",
        "        src , trg = batch\n",
        "        preds = self(src)\n",
        "        loss  = F.cross_entropy(preds , trg)\n",
        "        acc   = (preds.argmax(dim = -1) == trg).float().mean()\n",
        "\n",
        "        self.log(\"val_acc\" , acc , on_step = True , on_epoch = True , prog_bar = True , )\n",
        "        self.log(\"val_loss\" , loss , on_step = True , on_epoch = True , prog_bar = True)\n",
        "\n",
        "    def test_step(self , batch , batch_idx):\n",
        "      src , trg = batch\n",
        "      preds = self(src)\n",
        "      loss  = F.cross_entropy(preds , trg)\n",
        "      acc   = (preds.argmax(dim = -1) == trg).float().mean()\n",
        "      self.log(\"test_acc\" , acc , on_step = True , on_epoch = True , prog_bar = True , )\n",
        "      self.log(\"test_loss\" , loss , on_step = True , on_epoch = True , prog_bar = True)\n",
        "      return {\"loss\" : loss ,\n",
        "              \"accuracy\" : acc}"
      ],
      "metadata": {
        "id": "d5_Luhjn2uw9"
      },
      "execution_count": null,
      "outputs": []
    },
    {
      "cell_type": "code",
      "source": [
        "data = dataloader(\"/content/mitbih.csv.zip\" , 96)\n",
        "data.prepare()"
      ],
      "metadata": {
        "id": "pZWyMH2UAV-d"
      },
      "execution_count": null,
      "outputs": []
    },
    {
      "cell_type": "code",
      "source": [
        "# Target Function - It can be any function that needs to be minimize\n",
        "\n",
        "num_classes = 5\n",
        "def targetFunction(variables_values = [0, 0, 0]):\n",
        "    lr, num_layer, dropout = variables_values\n",
        "    model = Model(num_classes, lr, num_layer, dropout)\n",
        "    trainer_CNN = pl.Trainer(log_every_n_steps = 1 , deterministic = True , gpus = 1 , max_epochs = 5 , fast_dev_run = False , logger = wandb_logger)\n",
        "    trainer_CNN.fit(model, data)\n",
        "    loss = trainer_CNN.logged_metrics['val_loss_epoch'].item()\n",
        "\n",
        "    return loss"
      ],
      "metadata": {
        "id": "i9WLMuUW70xP"
      },
      "execution_count": null,
      "outputs": []
    },
    {
      "cell_type": "code",
      "source": [
        "# AOA - Parameters\n",
        "parameters = {\n",
        "    'size': 10,\n",
        "    'min_values': (0.00001, 32, 0.3),\n",
        "    'max_values': (0.1, 512, 0.8),\n",
        "    'iterations': 3,\n",
        "    'alpha': 5,\n",
        "    'mu': 0.5,\n",
        "    'verbose': True\n",
        "}\n",
        "\n",
        "# AOA - Algorithm\n",
        "aoa = arithmetic_optimization_algorithm(target_function = targetFunction, **parameters)"
      ],
      "metadata": {
        "id": "m0LG33PM8ElP"
      },
      "execution_count": null,
      "outputs": []
    },
    {
      "cell_type": "code",
      "source": [
        "#Define The Model With Best Values From AOA Optimization\n",
        "class  Model(pl.LightningModule):\n",
        "\n",
        "    def __init__(self, num_of_class):\n",
        "        super(Model, self).__init__()\n",
        "\n",
        "        self.model = nn.Sequential(\n",
        "            nn.Conv1d(1, 32, kernel_size=3, stride=1 , padding = 1),\n",
        "            nn.BatchNorm1d(32) ,\n",
        "            nn.GELU() ,\n",
        "\n",
        "            nn.Conv1d(32 , 64 , kernel_size = 3 , stride = 1 , padding = 1) ,\n",
        "            nn.BatchNorm1d(64) ,\n",
        "            nn.GELU() ,\n",
        "            nn.MaxPool1d(3),\n",
        "\n",
        "            nn.Conv1d(64 , 128 , kernel_size = 3 , stride = 1 , padding = 1) ,\n",
        "            nn.BatchNorm1d(128) ,\n",
        "            nn.GELU() ,\n",
        "            nn.MaxPool1d(3) ,\n",
        "\n",
        "            nn.Conv1d(128 , 256 , kernel_size = 3 , stride = 1 , padding = 1) ,\n",
        "            nn.BatchNorm1d(256) ,\n",
        "            nn.GELU() ,\n",
        "            nn.Dropout(0.6))\n",
        "\n",
        "        self.linear = nn.Sequential(\n",
        "            nn.Linear(5120,512) ,\n",
        "            nn.Dropout(0.5) ,\n",
        "            nn.LeakyReLU(inplace = True) ,\n",
        "            nn.Linear(512 , num_of_class)\n",
        "        )\n",
        "\n",
        "    def forward(self,x):\n",
        "        # x = x.unsqueeze(1)\n",
        "        x = self.model(x)\n",
        "        x = x.view(x.size(0), -1)\n",
        "        x = self.linear(x)\n",
        "        return x\n",
        "\n",
        "    def configure_optimizers(self):\n",
        "        # here we define the optimizer\n",
        "        return optim.AdamW(self.parameters())\n",
        "\n",
        "    def training_step(self , batch , batch_idx):\n",
        "        # that descripe what happend in every training step\n",
        "        src , trg = batch\n",
        "        preds = self(src)\n",
        "        # we calculate the loss and accuracy from here\n",
        "        loss  = F.cross_entropy(preds , trg)\n",
        "        acc   = (preds.argmax(dim = -1) == trg).float().mean()\n",
        "        # add train accuracy and train loss to the logger we have (wand in our case)\n",
        "        self.log(\"train_acc\" , acc , on_step = True , on_epoch = True , prog_bar = True , )\n",
        "        self.log(\"train_loss\" , loss , on_step = True , on_epoch = True , prog_bar = True)\n",
        "        return loss\n",
        "\n",
        "    def validation_step(self , batch , batch_idx):\n",
        "        # that descripe what happend in every training step\n",
        "        src , trg = batch\n",
        "        preds = self(src)\n",
        "        loss  = F.cross_entropy(preds , trg)\n",
        "        acc   = (preds.argmax(dim = -1) == trg).float().mean()\n",
        "        # add validation accuracy and validation loss to the logger we have (wand in our case)\n",
        "        self.log(\"val_acc\" , acc , on_step = True , on_epoch = True , prog_bar = True , )\n",
        "        self.log(\"val_loss\" , loss , on_step = True , on_epoch = True , prog_bar = True)\n",
        "\n",
        "    def test_step(self , batch , batch_idx):\n",
        "      # thats how test step is gonna be working\n",
        "      src , trg = batch\n",
        "      preds = self(src)\n",
        "      loss  = F.cross_entropy(preds , trg)\n",
        "      acc   = (preds.argmax(dim = -1) == trg).float().mean()\n",
        "      self.log(\"test_acc\" , acc , on_step = True , on_epoch = True , prog_bar = True , )\n",
        "      self.log(\"test_loss\" , loss , on_step = True , on_epoch = True , prog_bar = True)\n",
        "      return {\"loss\" : loss ,\n",
        "              \"accuracy\" : acc}"
      ],
      "metadata": {
        "id": "LW-FytPK8OAF"
      },
      "execution_count": null,
      "outputs": []
    },
    {
      "cell_type": "code",
      "source": [
        "model = Model(num_of_class = 5)"
      ],
      "metadata": {
        "id": "1MU7pm5Z8r0z"
      },
      "execution_count": null,
      "outputs": []
    },
    {
      "cell_type": "code",
      "execution_count": null,
      "metadata": {
        "colab": {
          "base_uri": "https://localhost:8080/"
        },
        "id": "rIXqnmQBCdI7",
        "outputId": "4219c6c2-a28d-48ab-a295-36ca06a6f930"
      },
      "outputs": [
        {
          "output_type": "execute_result",
          "data": {
            "text/plain": [
              "Model(\n",
              "  (model): Sequential(\n",
              "    (0): Conv1d(1, 32, kernel_size=(3,), stride=(1,), padding=(1,))\n",
              "    (1): BatchNorm1d(32, eps=1e-05, momentum=0.1, affine=True, track_running_stats=True)\n",
              "    (2): GELU()\n",
              "    (3): Conv1d(32, 64, kernel_size=(3,), stride=(1,), padding=(1,))\n",
              "    (4): BatchNorm1d(64, eps=1e-05, momentum=0.1, affine=True, track_running_stats=True)\n",
              "    (5): GELU()\n",
              "    (6): MaxPool1d(kernel_size=3, stride=3, padding=0, dilation=1, ceil_mode=False)\n",
              "    (7): Conv1d(64, 128, kernel_size=(3,), stride=(1,), padding=(1,))\n",
              "    (8): BatchNorm1d(128, eps=1e-05, momentum=0.1, affine=True, track_running_stats=True)\n",
              "    (9): GELU()\n",
              "    (10): MaxPool1d(kernel_size=3, stride=3, padding=0, dilation=1, ceil_mode=False)\n",
              "    (11): Conv1d(128, 256, kernel_size=(3,), stride=(1,), padding=(1,))\n",
              "    (12): BatchNorm1d(256, eps=1e-05, momentum=0.1, affine=True, track_running_stats=True)\n",
              "    (13): GELU()\n",
              "    (14): Dropout(p=0.6, inplace=False)\n",
              "  )\n",
              "  (linear): Sequential(\n",
              "    (0): Linear(in_features=5120, out_features=512, bias=True)\n",
              "    (1): Dropout(p=0.5, inplace=False)\n",
              "    (2): LeakyReLU(negative_slope=0.01, inplace=True)\n",
              "    (3): Linear(in_features=512, out_features=5, bias=True)\n",
              "  )\n",
              ")"
            ]
          },
          "metadata": {},
          "execution_count": 30
        }
      ],
      "source": [
        "# lets display our layers here\n",
        "model"
      ]
    },
    {
      "cell_type": "markdown",
      "metadata": {
        "id": "HNbuuc5QjYZ6"
      },
      "source": [
        "### setup Trainer"
      ]
    },
    {
      "cell_type": "code",
      "execution_count": null,
      "metadata": {
        "id": "LP2rVdO2M3Gx"
      },
      "outputs": [],
      "source": [
        "# we add some checkpoints to our training to\n",
        "checkpoint_callback = ModelCheckpoint(f\"/content/drive/MyDrive/FcaiBsuTeam/Software/Training/ColabNoteBooks/{EXPERMENT_NAME}.ckpt\", monitor = \"val_loss\" , mode = \"min\")\n",
        "early_stopping = EarlyStopping(monitor = \"val_loss\" , patience = 30 , verbose = True , mode = \"min\")"
      ]
    },
    {
      "cell_type": "code",
      "execution_count": null,
      "metadata": {
        "id": "dPy0ydRmM3Gx",
        "colab": {
          "base_uri": "https://localhost:8080/",
          "height": 344,
          "referenced_widgets": [
            "c91eaa3ef0434bc4a8bbc5d939f39657",
            "a3bb5e0117174b6699ae5f323df988d5",
            "d398e454d11f4bb7a614cd712f11935a",
            "29b575fb06cf4270b1a12a028d2f786b",
            "68433e3d68574605abc28b0eacb01e2f",
            "6214ed3031e6420d95a11f6b7949b652",
            "be469f404d5741c99f2ffa5b3fcca5e7",
            "d459b8dc2c324c5b896045286ab74de9",
            "5e235487d2b5478592ff4aec90439bb5",
            "6305ed1303eb46d99bfe1eb83c30b499",
            "5407471548044779ac8185626c5dc48a",
            "f2eeeee6df4340e590a7addcdbf6d174",
            "048d4837fbe44201871ea3462af3089d",
            "34cddd8ba06a4880ab97eed6b16cf707",
            "ea0a483d3fa64c78902d7bb30e3bb125",
            "81c310b22f9f42a9a65cda7abfde00ff",
            "96888deff1c0490b9527e67ba93df060",
            "0c4bc50bac1549a6add51f50814e6667",
            "9e1c52a90e354556851c093fcae4a27f",
            "d74efb2981bc4f7c9b4acda35ed33503",
            "2f5289863cae4c2f9108f2cc3df15147",
            "d8f0369098064580aade13764c9229ad"
          ]
        },
        "outputId": "18c135cd-1316-463e-a058-854717ac59d3"
      },
      "outputs": [
        {
          "output_type": "stream",
          "name": "stderr",
          "text": [
            "GPU available: True, used: True\n",
            "TPU available: False, using: 0 TPU cores\n",
            "IPU available: False, using: 0 IPUs\n",
            "HPU available: False, using: 0 HPUs\n",
            "LOCAL_RANK: 0 - CUDA_VISIBLE_DEVICES: [0]\n",
            "\n",
            "  | Name   | Type       | Params\n",
            "--------------------------------------\n",
            "0 | model  | Sequential | 130 K \n",
            "1 | linear | Sequential | 2.6 M \n",
            "--------------------------------------\n",
            "2.8 M     Trainable params\n",
            "0         Non-trainable params\n",
            "2.8 M     Total params\n",
            "11.020    Total estimated model params size (MB)\n"
          ]
        },
        {
          "output_type": "display_data",
          "data": {
            "text/plain": [
              "Sanity Checking: 0it [00:00, ?it/s]"
            ],
            "application/vnd.jupyter.widget-view+json": {
              "version_major": 2,
              "version_minor": 0,
              "model_id": "c91eaa3ef0434bc4a8bbc5d939f39657"
            }
          },
          "metadata": {}
        },
        {
          "output_type": "display_data",
          "data": {
            "text/plain": [
              "Training: 0it [00:00, ?it/s]"
            ],
            "application/vnd.jupyter.widget-view+json": {
              "version_major": 2,
              "version_minor": 0,
              "model_id": "f2eeeee6df4340e590a7addcdbf6d174"
            }
          },
          "metadata": {}
        },
        {
          "output_type": "stream",
          "name": "stderr",
          "text": [
            "/usr/local/lib/python3.7/dist-packages/pytorch_lightning/trainer/trainer.py:726: UserWarning: Detected KeyboardInterrupt, attempting graceful shutdown...\n",
            "  rank_zero_warn(\"Detected KeyboardInterrupt, attempting graceful shutdown...\")\n"
          ]
        }
      ],
      "source": [
        "# max_epochs refere to the number of epochs that used\n",
        "# logger -> wandb logger that we used\n",
        "# callbacks -> it's a list contains all  callbacks that we defined above (early stop and save parameters of the best values)\n",
        "# we add some checkpoints to our training to\n",
        "checkpoint_callback = ModelCheckpoint(f\"/content/drive/MyDrive/FcaiBsuTeam/Software/Training/ColabNoteBooks/{EXPERMENT_NAME}.ckpt\", monitor = \"val_loss\" , mode = \"min\")\n",
        "early_stopping = EarlyStopping(monitor = \"val_loss\" , patience = 30 , verbose = True , mode = \"min\")\n",
        "trainer_CNN = pl.Trainer(log_every_n_steps = 1 , deterministic = True , gpus = 1 , max_epochs = 100 , fast_dev_run = False , logger = wandb_logger  , callbacks = [\n",
        "                                checkpoint_callback , early_stopping])\n",
        "\n",
        "trainer_CNN.fit(model  , data)"
      ]
    },
    {
      "cell_type": "code",
      "execution_count": null,
      "metadata": {
        "id": "IIBDFC7pwHgt"
      },
      "outputs": [],
      "source": [
        "trainer_CNN.save_checkpoint(f'model{EXPERMENT_NAME}.ckpt')"
      ]
    },
    {
      "cell_type": "code",
      "execution_count": null,
      "metadata": {
        "id": "euePxAMbU-Z0"
      },
      "outputs": [],
      "source": [
        "wandb.finish()"
      ]
    },
    {
      "cell_type": "code",
      "execution_count": null,
      "metadata": {
        "id": "5UVfZ-zevg3r"
      },
      "outputs": [],
      "source": [
        "new_model = Model.load_from_checkpoint(checkpoint_path=f\"/content/drive/MyDrive/FcaiBsuTeam/implementations/Training/Model Checkpoint/model.ckpt\" , num_of_class = 5)"
      ]
    },
    {
      "cell_type": "code",
      "execution_count": null,
      "metadata": {
        "id": "mpOqG4y5Tkc-"
      },
      "outputs": [],
      "source": [
        "from sklearn.metrics import confusion_matrix"
      ]
    },
    {
      "cell_type": "code",
      "execution_count": null,
      "metadata": {
        "id": "Rfq_TMmaMbi4"
      },
      "outputs": [],
      "source": [
        "def cm_helper(model , dataloader):\n",
        "  output  = []\n",
        "  actual  = []\n",
        "  for x , y in dataloader:\n",
        "    preds = model(x)\n",
        "    actual+= y.numpy().tolist()\n",
        "    logits = preds.argmax(dim = -1)\n",
        "    output+=logits.numpy().tolist()\n",
        "  return actual , output\n"
      ]
    },
    {
      "cell_type": "code",
      "execution_count": null,
      "metadata": {
        "id": "mT8JMeKCxJGs"
      },
      "outputs": [],
      "source": [
        "import itertools\n",
        "import numpy as np\n",
        "import matplotlib.pyplot as plt\n",
        "\n",
        "def plot_confusion_matrix(cm, classes, normalize=False, title='Confusion matrix', cmap=plt.cm.Blues):\n",
        "    if normalize:\n",
        "        cm = cm.astype('float') / cm.sum(axis=1)[:, np.newaxis]\n",
        "        print(\"Normalized confusion matrix\")\n",
        "    else:\n",
        "        print('Confusion matrix, without normalization')\n",
        "\n",
        "    print(cm)\n",
        "    plt.imshow(cm, interpolation='nearest', cmap=cmap)\n",
        "    plt.title(title)\n",
        "    plt.colorbar()\n",
        "    tick_marks = np.arange(len(classes))\n",
        "    plt.xticks(tick_marks, classes, rotation=45)\n",
        "    plt.yticks(tick_marks, classes)\n",
        "\n",
        "    fmt = '.2f' if normalize else 'd'\n",
        "    thresh = cm.max() / 2.\n",
        "    for i, j in itertools.product(range(cm.shape[0]), range(cm.shape[1])):\n",
        "        plt.text(j, i, format(cm[i, j], fmt), horizontalalignment=\"center\", color=\"white\" if cm[i, j] > thresh else \"black\")\n",
        "\n",
        "    plt.tight_layout()\n",
        "    plt.ylabel('True label')\n",
        "    plt.xlabel('Predicted label')"
      ]
    },
    {
      "cell_type": "code",
      "execution_count": null,
      "metadata": {
        "id": "WW0MvmebteJo"
      },
      "outputs": [],
      "source": [
        "from sklearn.metrics import confusion_matrix , classification_report"
      ]
    },
    {
      "cell_type": "code",
      "execution_count": null,
      "metadata": {
        "id": "6lkpcdSsz5cH"
      },
      "outputs": [],
      "source": [
        "class ECGDataset2(Dataset):\n",
        "\n",
        "    def __init__(self, df):\n",
        "        self.df = df\n",
        "        self.data_columns = self.df.columns[:-1].tolist()\n",
        "\n",
        "    def __getitem__(self, idx):\n",
        "        # print(1)\n",
        "        signal = self.df.iloc[idx, :-1].astype('float32')\n",
        "        # print(2)\n",
        "        signal = torch.FloatTensor([signal.values])\n",
        "        # print(3)\n",
        "        target = torch.LongTensor(np.array(self.df.iloc[idx, -1]))\n",
        "        # print(4)\n",
        "        return signal, target\n",
        "\n",
        "    def __len__(self):\n",
        "      return len(self.df)"
      ]
    },
    {
      "cell_type": "code",
      "execution_count": null,
      "metadata": {
        "colab": {
          "base_uri": "https://localhost:8080/"
        },
        "id": "e6fKNgfVz5l7",
        "outputId": "927c5ff2-edcb-4118-de29-79b1824ee30f"
      },
      "outputs": [
        {
          "output_type": "stream",
          "name": "stdout",
          "text": [
            "(21892, 188)\n"
          ]
        }
      ],
      "source": [
        "test_df = pd.read_csv(\"/content/mitbih_test.csv\" , names = [str(i) for i in range(188)])\n",
        "print(test_df.shape)\n",
        "test_dataset = ECGDataset2(test_df)\n",
        "test_dataloader = DataLoader(dataset=test_dataset, batch_size=200, num_workers=0, shuffle=False)"
      ]
    },
    {
      "cell_type": "code",
      "execution_count": null,
      "metadata": {
        "id": "6Ul_94CHacJV",
        "colab": {
          "base_uri": "https://localhost:8080/",
          "height": 171,
          "referenced_widgets": [
            "09c06d5b637f4ca1815fe0f14ad5be13",
            "e6e5f9dbe2fa40e0a21fbe9bbe2d3e9d",
            "af0d14c9a62b4bc4a8ca92456ef7f56d",
            "9529b74f42a74a219f38ffe0e5f28f02",
            "ed208ca1f8674c01b8a5056c74c635ec",
            "676dbb1f60a440a68d70529098c3319b",
            "fd58e7b508694c66aa59ada725d873e7",
            "a001bb1bce3e4a0893abbc27ee213995",
            "c341f1d5be3d4ad5829395e3cb073b98",
            "31ca62ab568e4dfeb35956dfaa862088",
            "607458173f744adc8e16d71360bfa912"
          ]
        },
        "outputId": "bb0ef016-a143-4f52-c4f3-30d71af17e1b"
      },
      "outputs": [
        {
          "output_type": "stream",
          "name": "stderr",
          "text": [
            "LOCAL_RANK: 0 - CUDA_VISIBLE_DEVICES: [0]\n"
          ]
        },
        {
          "output_type": "display_data",
          "data": {
            "text/plain": [
              "Testing: 0it [00:00, ?it/s]"
            ],
            "application/vnd.jupyter.widget-view+json": {
              "version_major": 2,
              "version_minor": 0,
              "model_id": "09c06d5b637f4ca1815fe0f14ad5be13"
            }
          },
          "metadata": {}
        },
        {
          "output_type": "stream",
          "name": "stdout",
          "text": [
            "────────────────────────────────────────────────────────────────────────────────────────────────────────────────────────\n",
            "       Test metric             DataLoader 0\n",
            "────────────────────────────────────────────────────────────────────────────────────────────────────────────────────────\n",
            "     test_acc_epoch         0.9970308542251587\n",
            "     test_loss_epoch       0.012291817925870419\n",
            "────────────────────────────────────────────────────────────────────────────────────────────────────────────────────────\n"
          ]
        }
      ],
      "source": [
        "test_result = trainer_CNN.test(new_model , test_dataloader)"
      ]
    },
    {
      "cell_type": "code",
      "execution_count": null,
      "metadata": {
        "id": "cyPdHpNez5oN"
      },
      "outputs": [],
      "source": [
        "actual , output = cm_helper(new_model , test_dataloader)\n",
        "cm = confusion_matrix(actual, output, labels=[0 , 1 , 2 , 3 , 4])"
      ]
    },
    {
      "cell_type": "code",
      "execution_count": null,
      "metadata": {
        "id": "zWPIIPXK2U-L",
        "colab": {
          "base_uri": "https://localhost:8080/"
        },
        "outputId": "26590bc0-2107-4f47-93d0-5fdec79c5b71"
      },
      "outputs": [
        {
          "output_type": "execute_result",
          "data": {
            "text/plain": [
              "array([[18081,    20,     7,     5,     5],\n",
              "       [   67,   482,     6,     0,     1],\n",
              "       [   55,     6,  1345,    26,    16],\n",
              "       [   19,     0,    11,   132,     0],\n",
              "       [   33,     2,     9,     2,  1562]])"
            ]
          },
          "metadata": {},
          "execution_count": 43
        }
      ],
      "source": [
        "cm"
      ]
    },
    {
      "cell_type": "code",
      "execution_count": null,
      "metadata": {
        "id": "4AnuQuHC3Mhp",
        "colab": {
          "base_uri": "https://localhost:8080/",
          "height": 415
        },
        "outputId": "28c1fa16-2886-4d00-bbc2-bd6ee5393760"
      },
      "outputs": [
        {
          "output_type": "stream",
          "name": "stdout",
          "text": [
            "Confusion matrix, without normalization\n",
            "[[18081    20     7     5     5]\n",
            " [   67   482     6     0     1]\n",
            " [   55     6  1345    26    16]\n",
            " [   19     0    11   132     0]\n",
            " [   33     2     9     2  1562]]\n"
          ]
        },
        {
          "output_type": "display_data",
          "data": {
            "text/plain": [
              "<Figure size 432x288 with 2 Axes>"
            ],
            "image/png": "[encoded data removed]"
          },
          "metadata": {
            "needs_background": "light"
          }
        }
      ],
      "source": [
        "plot_confusion_matrix(cm , classes = [0 , 1 , 2 , 3 , 4])"
      ]
    },
    {
      "cell_type": "code",
      "execution_count": null,
      "metadata": {
        "id": "EwC4Xcqmz5qG",
        "colab": {
          "base_uri": "https://localhost:8080/"
        },
        "outputId": "6491ccfd-6168-44ea-c993-a21e51056cfa"
      },
      "outputs": [
        {
          "output_type": "stream",
          "name": "stdout",
          "text": [
            "              precision    recall  f1-score   support\n",
            "\n",
            "           N       0.99      1.00      0.99     18118\n",
            "           S       0.95      0.87      0.90       556\n",
            "           V       0.98      0.93      0.95      1448\n",
            "           F       0.80      0.81      0.81       162\n",
            "           Q       0.99      0.97      0.98      1608\n",
            "\n",
            "    accuracy                           0.99     21892\n",
            "   macro avg       0.94      0.92      0.93     21892\n",
            "weighted avg       0.99      0.99      0.99     21892\n",
            "\n"
          ]
        }
      ],
      "source": [
        "from sklearn.metrics import confusion_matrix , classification_report\n",
        "print(classification_report(y_true=actual ,y_pred=output ,labels=[0,1,2,3,4] ,target_names =['N','S','V','F','Q']))"
      ]
    }
  ],
  "metadata": {
    "accelerator": "GPU",
    "colab": {
      "collapsed_sections": [
        "B4UYWWRUhGQ7"
      ],
      "provenance": []
    },
    "gpuClass": "standard",
    "kernelspec": {
      "display_name": "Python 3",
      "name": "python3"
    },
    "language_info": {
      "name": "python"
    },
    "widgets": {
      "application/vnd.jupyter.widget-state+json": {
        "c91eaa3ef0434bc4a8bbc5d939f39657": {
          "model_module": "@jupyter-widgets/controls",
          "model_name": "HBoxModel",
          "model_module_version": "1.5.0",
          "state": {
            "_dom_classes": [],
            "_model_module": "@jupyter-widgets/controls",
            "_model_module_version": "1.5.0",
            "_model_name": "HBoxModel",
            "_view_count": null,
            "_view_module": "@jupyter-widgets/controls",
            "_view_module_version": "1.5.0",
            "_view_name": "HBoxView",
            "box_style": "",
            "children": [
              "IPY_MODEL_a3bb5e0117174b6699ae5f323df988d5",
              "IPY_MODEL_d398e454d11f4bb7a614cd712f11935a",
              "IPY_MODEL_29b575fb06cf4270b1a12a028d2f786b"
            ],
            "layout": "IPY_MODEL_68433e3d68574605abc28b0eacb01e2f"
          }
        },
        "a3bb5e0117174b6699ae5f323df988d5": {
          "model_module": "@jupyter-widgets/controls",
          "model_name": "HTMLModel",
          "model_module_version": "1.5.0",
          "state": {
            "_dom_classes": [],
            "_model_module": "@jupyter-widgets/controls",
            "_model_module_version": "1.5.0",
            "_model_name": "HTMLModel",
            "_view_count": null,
            "_view_module": "@jupyter-widgets/controls",
            "_view_module_version": "1.5.0",
            "_view_name": "HTMLView",
            "description": "",
            "description_tooltip": null,
            "layout": "IPY_MODEL_6214ed3031e6420d95a11f6b7949b652",
            "placeholder": "​",
            "style": "IPY_MODEL_be469f404d5741c99f2ffa5b3fcca5e7",
            "value": "Sanity Checking DataLoader 0: 100%"
          }
        },
        "d398e454d11f4bb7a614cd712f11935a": {
          "model_module": "@jupyter-widgets/controls",
          "model_name": "FloatProgressModel",
          "model_module_version": "1.5.0",
          "state": {
            "_dom_classes": [],
            "_model_module": "@jupyter-widgets/controls",
            "_model_module_version": "1.5.0",
            "_model_name": "FloatProgressModel",
            "_view_count": null,
            "_view_module": "@jupyter-widgets/controls",
            "_view_module_version": "1.5.0",
            "_view_name": "ProgressView",
            "bar_style": "",
            "description": "",
            "description_tooltip": null,
            "layout": "IPY_MODEL_d459b8dc2c324c5b896045286ab74de9",
            "max": 2,
            "min": 0,
            "orientation": "horizontal",
            "style": "IPY_MODEL_5e235487d2b5478592ff4aec90439bb5",
            "value": 2
          }
        },
        "29b575fb06cf4270b1a12a028d2f786b": {
          "model_module": "@jupyter-widgets/controls",
          "model_name": "HTMLModel",
          "model_module_version": "1.5.0",
          "state": {
            "_dom_classes": [],
            "_model_module": "@jupyter-widgets/controls",
            "_model_module_version": "1.5.0",
            "_model_name": "HTMLModel",
            "_view_count": null,
            "_view_module": "@jupyter-widgets/controls",
            "_view_module_version": "1.5.0",
            "_view_name": "HTMLView",
            "description": "",
            "description_tooltip": null,
            "layout": "IPY_MODEL_6305ed1303eb46d99bfe1eb83c30b499",
            "placeholder": "​",
            "style": "IPY_MODEL_5407471548044779ac8185626c5dc48a",
            "value": " 2/2 [00:00&lt;00:00, 20.33it/s]"
          }
        },
        "68433e3d68574605abc28b0eacb01e2f": {
          "model_module": "@jupyter-widgets/base",
          "model_name": "LayoutModel",
          "model_module_version": "1.2.0",
          "state": {
            "_model_module": "@jupyter-widgets/base",
            "_model_module_version": "1.2.0",
            "_model_name": "LayoutModel",
            "_view_count": null,
            "_view_module": "@jupyter-widgets/base",
            "_view_module_version": "1.2.0",
            "_view_name": "LayoutView",
            "align_content": null,
            "align_items": null,
            "align_self": null,
            "border": null,
            "bottom": null,
            "display": "inline-flex",
            "flex": null,
            "flex_flow": "row wrap",
            "grid_area": null,
            "grid_auto_columns": null,
            "grid_auto_flow": null,
            "grid_auto_rows": null,
            "grid_column": null,
            "grid_gap": null,
            "grid_row": null,
            "grid_template_areas": null,
            "grid_template_columns": null,
            "grid_template_rows": null,
            "height": null,
            "justify_content": null,
            "justify_items": null,
            "left": null,
            "margin": null,
            "max_height": null,
            "max_width": null,
            "min_height": null,
            "min_width": null,
            "object_fit": null,
            "object_position": null,
            "order": null,
            "overflow": null,
            "overflow_x": null,
            "overflow_y": null,
            "padding": null,
            "right": null,
            "top": null,
            "visibility": null,
            "width": "100%"
          }
        },
        "6214ed3031e6420d95a11f6b7949b652": {
          "model_module": "@jupyter-widgets/base",
          "model_name": "LayoutModel",
          "model_module_version": "1.2.0",
          "state": {
            "_model_module": "@jupyter-widgets/base",
            "_model_module_version": "1.2.0",
            "_model_name": "LayoutModel",
            "_view_count": null,
            "_view_module": "@jupyter-widgets/base",
            "_view_module_version": "1.2.0",
            "_view_name": "LayoutView",
            "align_content": null,
            "align_items": null,
            "align_self": null,
            "border": null,
            "bottom": null,
            "display": null,
            "flex": null,
            "flex_flow": null,
            "grid_area": null,
            "grid_auto_columns": null,
            "grid_auto_flow": null,
            "grid_auto_rows": null,
            "grid_column": null,
            "grid_gap": null,
            "grid_row": null,
            "grid_template_areas": null,
            "grid_template_columns": null,
            "grid_template_rows": null,
            "height": null,
            "justify_content": null,
            "justify_items": null,
            "left": null,
            "margin": null,
            "max_height": null,
            "max_width": null,
            "min_height": null,
            "min_width": null,
            "object_fit": null,
            "object_position": null,
            "order": null,
            "overflow": null,
            "overflow_x": null,
            "overflow_y": null,
            "padding": null,
            "right": null,
            "top": null,
            "visibility": null,
            "width": null
          }
        },
        "be469f404d5741c99f2ffa5b3fcca5e7": {
          "model_module": "@jupyter-widgets/controls",
          "model_name": "DescriptionStyleModel",
          "model_module_version": "1.5.0",
          "state": {
            "_model_module": "@jupyter-widgets/controls",
            "_model_module_version": "1.5.0",
            "_model_name": "DescriptionStyleModel",
            "_view_count": null,
            "_view_module": "@jupyter-widgets/base",
            "_view_module_version": "1.2.0",
            "_view_name": "StyleView",
            "description_width": ""
          }
        },
        "d459b8dc2c324c5b896045286ab74de9": {
          "model_module": "@jupyter-widgets/base",
          "model_name": "LayoutModel",
          "model_module_version": "1.2.0",
          "state": {
            "_model_module": "@jupyter-widgets/base",
            "_model_module_version": "1.2.0",
            "_model_name": "LayoutModel",
            "_view_count": null,
            "_view_module": "@jupyter-widgets/base",
            "_view_module_version": "1.2.0",
            "_view_name": "LayoutView",
            "align_content": null,
            "align_items": null,
            "align_self": null,
            "border": null,
            "bottom": null,
            "display": null,
            "flex": "2",
            "flex_flow": null,
            "grid_area": null,
            "grid_auto_columns": null,
            "grid_auto_flow": null,
            "grid_auto_rows": null,
            "grid_column": null,
            "grid_gap": null,
            "grid_row": null,
            "grid_template_areas": null,
            "grid_template_columns": null,
            "grid_template_rows": null,
            "height": null,
            "justify_content": null,
            "justify_items": null,
            "left": null,
            "margin": null,
            "max_height": null,
            "max_width": null,
            "min_height": null,
            "min_width": null,
            "object_fit": null,
            "object_position": null,
            "order": null,
            "overflow": null,
            "overflow_x": null,
            "overflow_y": null,
            "padding": null,
            "right": null,
            "top": null,
            "visibility": null,
            "width": null
          }
        },
        "5e235487d2b5478592ff4aec90439bb5": {
          "model_module": "@jupyter-widgets/controls",
          "model_name": "ProgressStyleModel",
          "model_module_version": "1.5.0",
          "state": {
            "_model_module": "@jupyter-widgets/controls",
            "_model_module_version": "1.5.0",
            "_model_name": "ProgressStyleModel",
            "_view_count": null,
            "_view_module": "@jupyter-widgets/base",
            "_view_module_version": "1.2.0",
            "_view_name": "StyleView",
            "bar_color": null,
            "description_width": ""
          }
        },
        "6305ed1303eb46d99bfe1eb83c30b499": {
          "model_module": "@jupyter-widgets/base",
          "model_name": "LayoutModel",
          "model_module_version": "1.2.0",
          "state": {
            "_model_module": "@jupyter-widgets/base",
            "_model_module_version": "1.2.0",
            "_model_name": "LayoutModel",
            "_view_count": null,
            "_view_module": "@jupyter-widgets/base",
            "_view_module_version": "1.2.0",
            "_view_name": "LayoutView",
            "align_content": null,
            "align_items": null,
            "align_self": null,
            "border": null,
            "bottom": null,
            "display": null,
            "flex": null,
            "flex_flow": null,
            "grid_area": null,
            "grid_auto_columns": null,
            "grid_auto_flow": null,
            "grid_auto_rows": null,
            "grid_column": null,
            "grid_gap": null,
            "grid_row": null,
            "grid_template_areas": null,
            "grid_template_columns": null,
            "grid_template_rows": null,
            "height": null,
            "justify_content": null,
            "justify_items": null,
            "left": null,
            "margin": null,
            "max_height": null,
            "max_width": null,
            "min_height": null,
            "min_width": null,
            "object_fit": null,
            "object_position": null,
            "order": null,
            "overflow": null,
            "overflow_x": null,
            "overflow_y": null,
            "padding": null,
            "right": null,
            "top": null,
            "visibility": null,
            "width": null
          }
        },
        "5407471548044779ac8185626c5dc48a": {
          "model_module": "@jupyter-widgets/controls",
          "model_name": "DescriptionStyleModel",
          "model_module_version": "1.5.0",
          "state": {
            "_model_module": "@jupyter-widgets/controls",
            "_model_module_version": "1.5.0",
            "_model_name": "DescriptionStyleModel",
            "_view_count": null,
            "_view_module": "@jupyter-widgets/base",
            "_view_module_version": "1.2.0",
            "_view_name": "StyleView",
            "description_width": ""
          }
        },
        "f2eeeee6df4340e590a7addcdbf6d174": {
          "model_module": "@jupyter-widgets/controls",
          "model_name": "HBoxModel",
          "model_module_version": "1.5.0",
          "state": {
            "_dom_classes": [],
            "_model_module": "@jupyter-widgets/controls",
            "_model_module_version": "1.5.0",
            "_model_name": "HBoxModel",
            "_view_count": null,
            "_view_module": "@jupyter-widgets/controls",
            "_view_module_version": "1.5.0",
            "_view_name": "HBoxView",
            "box_style": "",
            "children": [
              "IPY_MODEL_048d4837fbe44201871ea3462af3089d",
              "IPY_MODEL_34cddd8ba06a4880ab97eed6b16cf707",
              "IPY_MODEL_ea0a483d3fa64c78902d7bb30e3bb125"
            ],
            "layout": "IPY_MODEL_81c310b22f9f42a9a65cda7abfde00ff"
          }
        },
        "048d4837fbe44201871ea3462af3089d": {
          "model_module": "@jupyter-widgets/controls",
          "model_name": "HTMLModel",
          "model_module_version": "1.5.0",
          "state": {
            "_dom_classes": [],
            "_model_module": "@jupyter-widgets/controls",
            "_model_module_version": "1.5.0",
            "_model_name": "HTMLModel",
            "_view_count": null,
            "_view_module": "@jupyter-widgets/controls",
            "_view_module_version": "1.5.0",
            "_view_name": "HTMLView",
            "description": "",
            "description_tooltip": null,
            "layout": "IPY_MODEL_96888deff1c0490b9527e67ba93df060",
            "placeholder": "​",
            "style": "IPY_MODEL_0c4bc50bac1549a6add51f50814e6667",
            "value": "Epoch 0:  27%"
          }
        },
        "34cddd8ba06a4880ab97eed6b16cf707": {
          "model_module": "@jupyter-widgets/controls",
          "model_name": "FloatProgressModel",
          "model_module_version": "1.5.0",
          "state": {
            "_dom_classes": [],
            "_model_module": "@jupyter-widgets/controls",
            "_model_module_version": "1.5.0",
            "_model_name": "FloatProgressModel",
            "_view_count": null,
            "_view_module": "@jupyter-widgets/controls",
            "_view_module_version": "1.5.0",
            "_view_name": "ProgressView",
            "bar_style": "",
            "description": "",
            "description_tooltip": null,
            "layout": "IPY_MODEL_9e1c52a90e354556851c093fcae4a27f",
            "max": 1182,
            "min": 0,
            "orientation": "horizontal",
            "style": "IPY_MODEL_d74efb2981bc4f7c9b4acda35ed33503",
            "value": 320
          }
        },
        "ea0a483d3fa64c78902d7bb30e3bb125": {
          "model_module": "@jupyter-widgets/controls",
          "model_name": "HTMLModel",
          "model_module_version": "1.5.0",
          "state": {
            "_dom_classes": [],
            "_model_module": "@jupyter-widgets/controls",
            "_model_module_version": "1.5.0",
            "_model_name": "HTMLModel",
            "_view_count": null,
            "_view_module": "@jupyter-widgets/controls",
            "_view_module_version": "1.5.0",
            "_view_name": "HTMLView",
            "description": "",
            "description_tooltip": null,
            "layout": "IPY_MODEL_2f5289863cae4c2f9108f2cc3df15147",
            "placeholder": "​",
            "style": "IPY_MODEL_d8f0369098064580aade13764c9229ad",
            "value": " 320/1182 [00:49&lt;02:14,  6.41it/s, loss=0.127, v_num=ehwb, train_acc_step=0.969, train_loss_step=0.105]"
          }
        },
        "81c310b22f9f42a9a65cda7abfde00ff": {
          "model_module": "@jupyter-widgets/base",
          "model_name": "LayoutModel",
          "model_module_version": "1.2.0",
          "state": {
            "_model_module": "@jupyter-widgets/base",
            "_model_module_version": "1.2.0",
            "_model_name": "LayoutModel",
            "_view_count": null,
            "_view_module": "@jupyter-widgets/base",
            "_view_module_version": "1.2.0",
            "_view_name": "LayoutView",
            "align_content": null,
            "align_items": null,
            "align_self": null,
            "border": null,
            "bottom": null,
            "display": "inline-flex",
            "flex": null,
            "flex_flow": "row wrap",
            "grid_area": null,
            "grid_auto_columns": null,
            "grid_auto_flow": null,
            "grid_auto_rows": null,
            "grid_column": null,
            "grid_gap": null,
            "grid_row": null,
            "grid_template_areas": null,
            "grid_template_columns": null,
            "grid_template_rows": null,
            "height": null,
            "justify_content": null,
            "justify_items": null,
            "left": null,
            "margin": null,
            "max_height": null,
            "max_width": null,
            "min_height": null,
            "min_width": null,
            "object_fit": null,
            "object_position": null,
            "order": null,
            "overflow": null,
            "overflow_x": null,
            "overflow_y": null,
            "padding": null,
            "right": null,
            "top": null,
            "visibility": null,
            "width": "100%"
          }
        },
        "96888deff1c0490b9527e67ba93df060": {
          "model_module": "@jupyter-widgets/base",
          "model_name": "LayoutModel",
          "model_module_version": "1.2.0",
          "state": {
            "_model_module": "@jupyter-widgets/base",
            "_model_module_version": "1.2.0",
            "_model_name": "LayoutModel",
            "_view_count": null,
            "_view_module": "@jupyter-widgets/base",
            "_view_module_version": "1.2.0",
            "_view_name": "LayoutView",
            "align_content": null,
            "align_items": null,
            "align_self": null,
            "border": null,
            "bottom": null,
            "display": null,
            "flex": null,
            "flex_flow": null,
            "grid_area": null,
            "grid_auto_columns": null,
            "grid_auto_flow": null,
            "grid_auto_rows": null,
            "grid_column": null,
            "grid_gap": null,
            "grid_row": null,
            "grid_template_areas": null,
            "grid_template_columns": null,
            "grid_template_rows": null,
            "height": null,
            "justify_content": null,
            "justify_items": null,
            "left": null,
            "margin": null,
            "max_height": null,
            "max_width": null,
            "min_height": null,
            "min_width": null,
            "object_fit": null,
            "object_position": null,
            "order": null,
            "overflow": null,
            "overflow_x": null,
            "overflow_y": null,
            "padding": null,
            "right": null,
            "top": null,
            "visibility": null,
            "width": null
          }
        },
        "0c4bc50bac1549a6add51f50814e6667": {
          "model_module": "@jupyter-widgets/controls",
          "model_name": "DescriptionStyleModel",
          "model_module_version": "1.5.0",
          "state": {
            "_model_module": "@jupyter-widgets/controls",
            "_model_module_version": "1.5.0",
            "_model_name": "DescriptionStyleModel",
            "_view_count": null,
            "_view_module": "@jupyter-widgets/base",
            "_view_module_version": "1.2.0",
            "_view_name": "StyleView",
            "description_width": ""
          }
        },
        "9e1c52a90e354556851c093fcae4a27f": {
          "model_module": "@jupyter-widgets/base",
          "model_name": "LayoutModel",
          "model_module_version": "1.2.0",
          "state": {
            "_model_module": "@jupyter-widgets/base",
            "_model_module_version": "1.2.0",
            "_model_name": "LayoutModel",
            "_view_count": null,
            "_view_module": "@jupyter-widgets/base",
            "_view_module_version": "1.2.0",
            "_view_name": "LayoutView",
            "align_content": null,
            "align_items": null,
            "align_self": null,
            "border": null,
            "bottom": null,
            "display": null,
            "flex": "2",
            "flex_flow": null,
            "grid_area": null,
            "grid_auto_columns": null,
            "grid_auto_flow": null,
            "grid_auto_rows": null,
            "grid_column": null,
            "grid_gap": null,
            "grid_row": null,
            "grid_template_areas": null,
            "grid_template_columns": null,
            "grid_template_rows": null,
            "height": null,
            "justify_content": null,
            "justify_items": null,
            "left": null,
            "margin": null,
            "max_height": null,
            "max_width": null,
            "min_height": null,
            "min_width": null,
            "object_fit": null,
            "object_position": null,
            "order": null,
            "overflow": null,
            "overflow_x": null,
            "overflow_y": null,
            "padding": null,
            "right": null,
            "top": null,
            "visibility": null,
            "width": null
          }
        },
        "d74efb2981bc4f7c9b4acda35ed33503": {
          "model_module": "@jupyter-widgets/controls",
          "model_name": "ProgressStyleModel",
          "model_module_version": "1.5.0",
          "state": {
            "_model_module": "@jupyter-widgets/controls",
            "_model_module_version": "1.5.0",
            "_model_name": "ProgressStyleModel",
            "_view_count": null,
            "_view_module": "@jupyter-widgets/base",
            "_view_module_version": "1.2.0",
            "_view_name": "StyleView",
            "bar_color": null,
            "description_width": ""
          }
        },
        "2f5289863cae4c2f9108f2cc3df15147": {
          "model_module": "@jupyter-widgets/base",
          "model_name": "LayoutModel",
          "model_module_version": "1.2.0",
          "state": {
            "_model_module": "@jupyter-widgets/base",
            "_model_module_version": "1.2.0",
            "_model_name": "LayoutModel",
            "_view_count": null,
            "_view_module": "@jupyter-widgets/base",
            "_view_module_version": "1.2.0",
            "_view_name": "LayoutView",
            "align_content": null,
            "align_items": null,
            "align_self": null,
            "border": null,
            "bottom": null,
            "display": null,
            "flex": null,
            "flex_flow": null,
            "grid_area": null,
            "grid_auto_columns": null,
            "grid_auto_flow": null,
            "grid_auto_rows": null,
            "grid_column": null,
            "grid_gap": null,
            "grid_row": null,
            "grid_template_areas": null,
            "grid_template_columns": null,
            "grid_template_rows": null,
            "height": null,
            "justify_content": null,
            "justify_items": null,
            "left": null,
            "margin": null,
            "max_height": null,
            "max_width": null,
            "min_height": null,
            "min_width": null,
            "object_fit": null,
            "object_position": null,
            "order": null,
            "overflow": null,
            "overflow_x": null,
            "overflow_y": null,
            "padding": null,
            "right": null,
            "top": null,
            "visibility": null,
            "width": null
          }
        },
        "d8f0369098064580aade13764c9229ad": {
          "model_module": "@jupyter-widgets/controls",
          "model_name": "DescriptionStyleModel",
          "model_module_version": "1.5.0",
          "state": {
            "_model_module": "@jupyter-widgets/controls",
            "_model_module_version": "1.5.0",
            "_model_name": "DescriptionStyleModel",
            "_view_count": null,
            "_view_module": "@jupyter-widgets/base",
            "_view_module_version": "1.2.0",
            "_view_name": "StyleView",
            "description_width": ""
          }
        },
        "09c06d5b637f4ca1815fe0f14ad5be13": {
          "model_module": "@jupyter-widgets/controls",
          "model_name": "HBoxModel",
          "model_module_version": "1.5.0",
          "state": {
            "_dom_classes": [],
            "_model_module": "@jupyter-widgets/controls",
            "_model_module_version": "1.5.0",
            "_model_name": "HBoxModel",
            "_view_count": null,
            "_view_module": "@jupyter-widgets/controls",
            "_view_module_version": "1.5.0",
            "_view_name": "HBoxView",
            "box_style": "",
            "children": [
              "IPY_MODEL_e6e5f9dbe2fa40e0a21fbe9bbe2d3e9d",
              "IPY_MODEL_af0d14c9a62b4bc4a8ca92456ef7f56d",
              "IPY_MODEL_9529b74f42a74a219f38ffe0e5f28f02"
            ],
            "layout": "IPY_MODEL_ed208ca1f8674c01b8a5056c74c635ec"
          }
        },
        "e6e5f9dbe2fa40e0a21fbe9bbe2d3e9d": {
          "model_module": "@jupyter-widgets/controls",
          "model_name": "HTMLModel",
          "model_module_version": "1.5.0",
          "state": {
            "_dom_classes": [],
            "_model_module": "@jupyter-widgets/controls",
            "_model_module_version": "1.5.0",
            "_model_name": "HTMLModel",
            "_view_count": null,
            "_view_module": "@jupyter-widgets/controls",
            "_view_module_version": "1.5.0",
            "_view_name": "HTMLView",
            "description": "",
            "description_tooltip": null,
            "layout": "IPY_MODEL_676dbb1f60a440a68d70529098c3319b",
            "placeholder": "​",
            "style": "IPY_MODEL_fd58e7b508694c66aa59ada725d873e7",
            "value": "Testing DataLoader 0: 100%"
          }
        },
        "af0d14c9a62b4bc4a8ca92456ef7f56d": {
          "model_module": "@jupyter-widgets/controls",
          "model_name": "FloatProgressModel",
          "model_module_version": "1.5.0",
          "state": {
            "_dom_classes": [],
            "_model_module": "@jupyter-widgets/controls",
            "_model_module_version": "1.5.0",
            "_model_name": "FloatProgressModel",
            "_view_count": null,
            "_view_module": "@jupyter-widgets/controls",
            "_view_module_version": "1.5.0",
            "_view_name": "ProgressView",
            "bar_style": "success",
            "description": "",
            "description_tooltip": null,
            "layout": "IPY_MODEL_a001bb1bce3e4a0893abbc27ee213995",
            "max": 110,
            "min": 0,
            "orientation": "horizontal",
            "style": "IPY_MODEL_c341f1d5be3d4ad5829395e3cb073b98",
            "value": 110
          }
        },
        "9529b74f42a74a219f38ffe0e5f28f02": {
          "model_module": "@jupyter-widgets/controls",
          "model_name": "HTMLModel",
          "model_module_version": "1.5.0",
          "state": {
            "_dom_classes": [],
            "_model_module": "@jupyter-widgets/controls",
            "_model_module_version": "1.5.0",
            "_model_name": "HTMLModel",
            "_view_count": null,
            "_view_module": "@jupyter-widgets/controls",
            "_view_module_version": "1.5.0",
            "_view_name": "HTMLView",
            "description": "",
            "description_tooltip": null,
            "layout": "IPY_MODEL_31ca62ab568e4dfeb35956dfaa862088",
            "placeholder": "​",
            "style": "IPY_MODEL_607458173f744adc8e16d71360bfa912",
            "value": " 110/110 [00:08&lt;00:00, 12.94it/s]"
          }
        },
        "ed208ca1f8674c01b8a5056c74c635ec": {
          "model_module": "@jupyter-widgets/base",
          "model_name": "LayoutModel",
          "model_module_version": "1.2.0",
          "state": {
            "_model_module": "@jupyter-widgets/base",
            "_model_module_version": "1.2.0",
            "_model_name": "LayoutModel",
            "_view_count": null,
            "_view_module": "@jupyter-widgets/base",
            "_view_module_version": "1.2.0",
            "_view_name": "LayoutView",
            "align_content": null,
            "align_items": null,
            "align_self": null,
            "border": null,
            "bottom": null,
            "display": "inline-flex",
            "flex": null,
            "flex_flow": "row wrap",
            "grid_area": null,
            "grid_auto_columns": null,
            "grid_auto_flow": null,
            "grid_auto_rows": null,
            "grid_column": null,
            "grid_gap": null,
            "grid_row": null,
            "grid_template_areas": null,
            "grid_template_columns": null,
            "grid_template_rows": null,
            "height": null,
            "justify_content": null,
            "justify_items": null,
            "left": null,
            "margin": null,
            "max_height": null,
            "max_width": null,
            "min_height": null,
            "min_width": null,
            "object_fit": null,
            "object_position": null,
            "order": null,
            "overflow": null,
            "overflow_x": null,
            "overflow_y": null,
            "padding": null,
            "right": null,
            "top": null,
            "visibility": null,
            "width": "100%"
          }
        },
        "676dbb1f60a440a68d70529098c3319b": {
          "model_module": "@jupyter-widgets/base",
          "model_name": "LayoutModel",
          "model_module_version": "1.2.0",
          "state": {
            "_model_module": "@jupyter-widgets/base",
            "_model_module_version": "1.2.0",
            "_model_name": "LayoutModel",
            "_view_count": null,
            "_view_module": "@jupyter-widgets/base",
            "_view_module_version": "1.2.0",
            "_view_name": "LayoutView",
            "align_content": null,
            "align_items": null,
            "align_self": null,
            "border": null,
            "bottom": null,
            "display": null,
            "flex": null,
            "flex_flow": null,
            "grid_area": null,
            "grid_auto_columns": null,
            "grid_auto_flow": null,
            "grid_auto_rows": null,
            "grid_column": null,
            "grid_gap": null,
            "grid_row": null,
            "grid_template_areas": null,
            "grid_template_columns": null,
            "grid_template_rows": null,
            "height": null,
            "justify_content": null,
            "justify_items": null,
            "left": null,
            "margin": null,
            "max_height": null,
            "max_width": null,
            "min_height": null,
            "min_width": null,
            "object_fit": null,
            "object_position": null,
            "order": null,
            "overflow": null,
            "overflow_x": null,
            "overflow_y": null,
            "padding": null,
            "right": null,
            "top": null,
            "visibility": null,
            "width": null
          }
        },
        "fd58e7b508694c66aa59ada725d873e7": {
          "model_module": "@jupyter-widgets/controls",
          "model_name": "DescriptionStyleModel",
          "model_module_version": "1.5.0",
          "state": {
            "_model_module": "@jupyter-widgets/controls",
            "_model_module_version": "1.5.0",
            "_model_name": "DescriptionStyleModel",
            "_view_count": null,
            "_view_module": "@jupyter-widgets/base",
            "_view_module_version": "1.2.0",
            "_view_name": "StyleView",
            "description_width": ""
          }
        },
        "a001bb1bce3e4a0893abbc27ee213995": {
          "model_module": "@jupyter-widgets/base",
          "model_name": "LayoutModel",
          "model_module_version": "1.2.0",
          "state": {
            "_model_module": "@jupyter-widgets/base",
            "_model_module_version": "1.2.0",
            "_model_name": "LayoutModel",
            "_view_count": null,
            "_view_module": "@jupyter-widgets/base",
            "_view_module_version": "1.2.0",
            "_view_name": "LayoutView",
            "align_content": null,
            "align_items": null,
            "align_self": null,
            "border": null,
            "bottom": null,
            "display": null,
            "flex": "2",
            "flex_flow": null,
            "grid_area": null,
            "grid_auto_columns": null,
            "grid_auto_flow": null,
            "grid_auto_rows": null,
            "grid_column": null,
            "grid_gap": null,
            "grid_row": null,
            "grid_template_areas": null,
            "grid_template_columns": null,
            "grid_template_rows": null,
            "height": null,
            "justify_content": null,
            "justify_items": null,
            "left": null,
            "margin": null,
            "max_height": null,
            "max_width": null,
            "min_height": null,
            "min_width": null,
            "object_fit": null,
            "object_position": null,
            "order": null,
            "overflow": null,
            "overflow_x": null,
            "overflow_y": null,
            "padding": null,
            "right": null,
            "top": null,
            "visibility": null,
            "width": null
          }
        },
        "c341f1d5be3d4ad5829395e3cb073b98": {
          "model_module": "@jupyter-widgets/controls",
          "model_name": "ProgressStyleModel",
          "model_module_version": "1.5.0",
          "state": {
            "_model_module": "@jupyter-widgets/controls",
            "_model_module_version": "1.5.0",
            "_model_name": "ProgressStyleModel",
            "_view_count": null,
            "_view_module": "@jupyter-widgets/base",
            "_view_module_version": "1.2.0",
            "_view_name": "StyleView",
            "bar_color": null,
            "description_width": ""
          }
        },
        "31ca62ab568e4dfeb35956dfaa862088": {
          "model_module": "@jupyter-widgets/base",
          "model_name": "LayoutModel",
          "model_module_version": "1.2.0",
          "state": {
            "_model_module": "@jupyter-widgets/base",
            "_model_module_version": "1.2.0",
            "_model_name": "LayoutModel",
            "_view_count": null,
            "_view_module": "@jupyter-widgets/base",
            "_view_module_version": "1.2.0",
            "_view_name": "LayoutView",
            "align_content": null,
            "align_items": null,
            "align_self": null,
            "border": null,
            "bottom": null,
            "display": null,
            "flex": null,
            "flex_flow": null,
            "grid_area": null,
            "grid_auto_columns": null,
            "grid_auto_flow": null,
            "grid_auto_rows": null,
            "grid_column": null,
            "grid_gap": null,
            "grid_row": null,
            "grid_template_areas": null,
            "grid_template_columns": null,
            "grid_template_rows": null,
            "height": null,
            "justify_content": null,
            "justify_items": null,
            "left": null,
            "margin": null,
            "max_height": null,
            "max_width": null,
            "min_height": null,
            "min_width": null,
            "object_fit": null,
            "object_position": null,
            "order": null,
            "overflow": null,
            "overflow_x": null,
            "overflow_y": null,
            "padding": null,
            "right": null,
            "top": null,
            "visibility": null,
            "width": null
          }
        },
        "607458173f744adc8e16d71360bfa912": {
          "model_module": "@jupyter-widgets/controls",
          "model_name": "DescriptionStyleModel",
          "model_module_version": "1.5.0",
          "state": {
            "_model_module": "@jupyter-widgets/controls",
            "_model_module_version": "1.5.0",
            "_model_name": "DescriptionStyleModel",
            "_view_count": null,
            "_view_module": "@jupyter-widgets/base",
            "_view_module_version": "1.2.0",
            "_view_name": "StyleView",
            "description_width": ""
          }
        }
      }
    }
  },
  "nbformat": 4,
  "nbformat_minor": 0
}